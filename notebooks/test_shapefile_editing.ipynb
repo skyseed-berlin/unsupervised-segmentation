{
 "metadata": {
  "language_info": {
   "codemirror_mode": {
    "name": "ipython",
    "version": 3
   },
   "file_extension": ".py",
   "mimetype": "text/x-python",
   "name": "python",
   "nbconvert_exporter": "python",
   "pygments_lexer": "ipython3",
   "version": "3.9.0"
  },
  "orig_nbformat": 4,
  "kernelspec": {
   "name": "python3",
   "display_name": "Python 3.9.0 64-bit ('unsupervised-segmentation-n8aEmxnI': pipenv)"
  },
  "interpreter": {
   "hash": "268e3f556bbcdad8d074894574ecc547312956b04c26b94f670fb936139e6cdb"
  }
 },
 "nbformat": 4,
 "nbformat_minor": 2,
 "cells": [
  {
   "cell_type": "code",
   "execution_count": 10,
   "metadata": {},
   "outputs": [],
   "source": [
    "# Some Background Info on Shapefiles:\n",
    "#\n",
    "# One shapefile consists of at least three separate files\n",
    "# .shp: the file that contains the geometry for all features (polygons in our case)\n",
    "# .shx: the file that indexes the geometry\n",
    "# .dbf: the file that stores feature attributes in a tabular format. any metadata we want to include can be stored as a feature attribute (sometimes it's also called spatial data attribute)\n",
    "#\n",
    "# Optionally there are more\n",
    "# .prj: the file that contains information on projection format including the coordinate system and projection information. It is a plain text file describing the projection using well-known text (WKT) format.\n",
    "# .sbn and .sbx: the files that are a spatial index of the features.\n",
    "# .shp.xml: the file that is the geospatial metadata in XML format, (e.g. ISO 19115 or XML format).\n",
    "#\n",
    "# In order to work properly with a shapefile, all of the above files need to have the same name and be stored in the same directory. Before shared, they should always be zipped.\n",
    "\n",
    "\n",
    "# Here comes some example code of how to import, modify and export a shapefile with Python's geopandas library\n",
    "\n",
    "import os\n",
    "import geopandas as gpd\n"
   ]
  },
  {
   "cell_type": "code",
   "execution_count": 23,
   "metadata": {},
   "outputs": [
    {
     "output_type": "execute_result",
     "data": {
      "text/plain": [
       "   id  flÃ¤che                                           geometry\n",
       "0   1      562  POLYGON ((14.29381 52.39033, 14.29423 52.39032...\n",
       "1   2      249  POLYGON ((14.29345 52.39029, 14.29347 52.39031..."
      ],
      "text/html": "<div>\n<style scoped>\n    .dataframe tbody tr th:only-of-type {\n        vertical-align: middle;\n    }\n\n    .dataframe tbody tr th {\n        vertical-align: top;\n    }\n\n    .dataframe thead th {\n        text-align: right;\n    }\n</style>\n<table border=\"1\" class=\"dataframe\">\n  <thead>\n    <tr style=\"text-align: right;\">\n      <th></th>\n      <th>id</th>\n      <th>flÃ¤che</th>\n      <th>geometry</th>\n    </tr>\n  </thead>\n  <tbody>\n    <tr>\n      <th>0</th>\n      <td>1</td>\n      <td>562</td>\n      <td>POLYGON ((14.29381 52.39033, 14.29423 52.39032...</td>\n    </tr>\n    <tr>\n      <th>1</th>\n      <td>2</td>\n      <td>249</td>\n      <td>POLYGON ((14.29345 52.39029, 14.29347 52.39031...</td>\n    </tr>\n  </tbody>\n</table>\n</div>"
     },
     "metadata": {},
     "execution_count": 23
    }
   ],
   "source": [
    "os.chdir(\"../data/sample_data/\")\n",
    "\n",
    "test_polygon = gpd.read_file(\"shapefile_test.shp\")\n",
    "# data is imported as a geopandas dataframe\n",
    "test_polygon"
   ]
  },
  {
   "cell_type": "code",
   "execution_count": 24,
   "metadata": {},
   "outputs": [
    {
     "output_type": "execute_result",
     "data": {
      "text/plain": [
       "(2, 3)"
      ]
     },
     "metadata": {},
     "execution_count": 24
    }
   ],
   "source": [
    "# dimension is (number of objects, number of attributes)\n",
    "test_polygon.shape"
   ]
  },
  {
   "cell_type": "code",
   "execution_count": 25,
   "metadata": {},
   "outputs": [
    {
     "output_type": "execute_result",
     "data": {
      "text/plain": [
       "   id  flÃ¤che                                           geometry  \\\n",
       "0   1      562  POLYGON ((14.29381 52.39033, 14.29423 52.39032...   \n",
       "1   2      249  POLYGON ((14.29345 52.39029, 14.29347 52.39031...   \n",
       "\n",
       "    added_meta_info  \n",
       "0  something useful  \n",
       "1  something useful  "
      ],
      "text/html": "<div>\n<style scoped>\n    .dataframe tbody tr th:only-of-type {\n        vertical-align: middle;\n    }\n\n    .dataframe tbody tr th {\n        vertical-align: top;\n    }\n\n    .dataframe thead th {\n        text-align: right;\n    }\n</style>\n<table border=\"1\" class=\"dataframe\">\n  <thead>\n    <tr style=\"text-align: right;\">\n      <th></th>\n      <th>id</th>\n      <th>flÃ¤che</th>\n      <th>geometry</th>\n      <th>added_meta_info</th>\n    </tr>\n  </thead>\n  <tbody>\n    <tr>\n      <th>0</th>\n      <td>1</td>\n      <td>562</td>\n      <td>POLYGON ((14.29381 52.39033, 14.29423 52.39032...</td>\n      <td>something useful</td>\n    </tr>\n    <tr>\n      <th>1</th>\n      <td>2</td>\n      <td>249</td>\n      <td>POLYGON ((14.29345 52.39029, 14.29347 52.39031...</td>\n      <td>something useful</td>\n    </tr>\n  </tbody>\n</table>\n</div>"
     },
     "metadata": {},
     "execution_count": 25
    }
   ],
   "source": [
    "# add new column to geopandas dataframe with constant value for all objects\n",
    "test_polygon[\"added_meta_info\"] = \"something useful\"\n",
    "test_polygon"
   ]
  },
  {
   "cell_type": "code",
   "execution_count": 27,
   "metadata": {},
   "outputs": [
    {
     "output_type": "execute_result",
     "data": {
      "text/plain": [
       "   id  flÃ¤che                                           geometry  \\\n",
       "0   1      562  POLYGON ((14.29381 52.39033, 14.29423 52.39032...   \n",
       "1   2      249  POLYGON ((14.29345 52.39029, 14.29347 52.39031...   \n",
       "\n",
       "    added_meta_info  object_specific_info  \n",
       "0  something useful                 124.0  \n",
       "1  something useful                 532.0  "
      ],
      "text/html": "<div>\n<style scoped>\n    .dataframe tbody tr th:only-of-type {\n        vertical-align: middle;\n    }\n\n    .dataframe tbody tr th {\n        vertical-align: top;\n    }\n\n    .dataframe thead th {\n        text-align: right;\n    }\n</style>\n<table border=\"1\" class=\"dataframe\">\n  <thead>\n    <tr style=\"text-align: right;\">\n      <th></th>\n      <th>id</th>\n      <th>flÃ¤che</th>\n      <th>geometry</th>\n      <th>added_meta_info</th>\n      <th>object_specific_info</th>\n    </tr>\n  </thead>\n  <tbody>\n    <tr>\n      <th>0</th>\n      <td>1</td>\n      <td>562</td>\n      <td>POLYGON ((14.29381 52.39033, 14.29423 52.39032...</td>\n      <td>something useful</td>\n      <td>124.0</td>\n    </tr>\n    <tr>\n      <th>1</th>\n      <td>2</td>\n      <td>249</td>\n      <td>POLYGON ((14.29345 52.39029, 14.29347 52.39031...</td>\n      <td>something useful</td>\n      <td>532.0</td>\n    </tr>\n  </tbody>\n</table>\n</div>"
     },
     "metadata": {},
     "execution_count": 27
    }
   ],
   "source": [
    "# add info for specific polygon via id \n",
    "test_polygon.loc[test_polygon.id == 1, \"object_specific_info\"] = 124\n",
    "test_polygon.loc[test_polygon.id == 2, \"object_specific_info\"] = 532\n",
    "test_polygon"
   ]
  },
  {
   "cell_type": "code",
   "execution_count": 28,
   "metadata": {},
   "outputs": [
    {
     "output_type": "stream",
     "name": "stderr",
     "text": [
      "<ipython-input-28-e9f07b193f60>:2: UserWarning: Column names longer than 10 characters will be truncated when saved to ESRI Shapefile.\n  test_polygon.to_file(\"shapefile_test_out.shp\")\n"
     ]
    }
   ],
   "source": [
    "# save as new shapefile\n",
    "test_polygon.to_file(\"shapefile_test_out.shp\")"
   ]
  }
 ]
}