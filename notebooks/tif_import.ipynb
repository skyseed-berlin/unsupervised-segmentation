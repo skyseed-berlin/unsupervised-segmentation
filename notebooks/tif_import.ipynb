{
 "metadata": {
  "language_info": {
   "codemirror_mode": {
    "name": "ipython",
    "version": 3
   },
   "file_extension": ".py",
   "mimetype": "text/x-python",
   "name": "python",
   "nbconvert_exporter": "python",
   "pygments_lexer": "ipython3",
   "version": "3.9.0"
  },
  "orig_nbformat": 4,
  "kernelspec": {
   "name": "python3",
   "display_name": "Python 3.9.0 64-bit ('unsupervised-segmentation-n8aEmxnI': pipenv)"
  },
  "interpreter": {
   "hash": "268e3f556bbcdad8d074894574ecc547312956b04c26b94f670fb936139e6cdb"
  }
 },
 "nbformat": 4,
 "nbformat_minor": 2,
 "cells": [
  {
   "cell_type": "code",
   "execution_count": 46,
   "metadata": {},
   "outputs": [
    {
     "output_type": "execute_result",
     "data": {
      "text/plain": [
       "(3000, 4000, 3)"
      ]
     },
     "metadata": {},
     "execution_count": 46
    }
   ],
   "source": [
    "import cv2\n",
    "import tifffile as tiff \n",
    "import imagecodecs\n",
    "import rasterio \n",
    "# I also want to try using the gdal library > installed by default on colab server and also usable in QGIS. However trouble installing it locally via pipenv\n",
    "import numpy as np \n",
    "import matplotlib.pyplot as plt\n",
    "%matplotlib inline\n",
    "\n",
    "img_rgb = cv2.imread(\"../data/example_tile.tif\")\n",
    "img_rgb.shape\n"
   ]
  },
  {
   "cell_type": "code",
   "execution_count": 6,
   "metadata": {},
   "outputs": [
    {
     "output_type": "execute_result",
     "data": {
      "text/plain": [
       "(2984, 3755, 3)"
      ]
     },
     "metadata": {},
     "execution_count": 6
    }
   ],
   "source": [
    "img_rgb = cv2.imread(\"../data/example_multispectral.tif\")\n",
    "img_rgb.shape\n",
    "# this does not work > does only read three color bands "
   ]
  },
  {
   "cell_type": "code",
   "execution_count": 110,
   "metadata": {},
   "outputs": [
    {
     "output_type": "execute_result",
     "data": {
      "text/plain": [
       "(2984, 3755, 4)"
      ]
     },
     "metadata": {},
     "execution_count": 110
    }
   ],
   "source": [
    "img_ms_tiff = tiff.imread(\"../data/example_multispectral.tif\")\n",
    "img_ms.shape"
   ]
  },
  {
   "cell_type": "code",
   "execution_count": 109,
   "metadata": {},
   "outputs": [],
   "source": [
    "img_rededge_tiff = tiff.imread(\"../data/example_rededge.tif\")\n",
    "img_nir_tiff = tiff.imread(\"../data/example_nir.tif\")\n",
    "img_red_tiff = tiff.imread(\"../data/example_red.tif\")\n",
    "img_green_tiff = tiff.imread(\"../data/example_green.tif\")\n",
    "img_blue_tiff = tiff.imread(\"../data/example_blue.tif\")\n",
    "\n",
    "def replace_nans(array):\n",
    "\n",
    "    indis = np.where(np.isnan(array))\n",
    "    array[indis] = 0\n",
    "    array = array.astype(\"uint8\")\n",
    "\n",
    "    return(array)\n",
    "\n",
    "img_nir_tiff = replace_nans(array=img_nir_tiff)\n",
    "img_rededge_tiff = replace_nans(array=img_rededge_tiff)\n",
    "img_red_tiff = replace_nans(array=img_red_tiff)\n",
    "img_green_tiff = replace_nans(array=img_green_tiff)\n",
    "img_blue_tiff = replace_nans(array=img_blue_tiff)\n"
   ]
  },
  {
   "cell_type": "code",
   "execution_count": 120,
   "metadata": {
    "tags": []
   },
   "outputs": [
    {
     "output_type": "stream",
     "name": "stdout",
     "text": [
      "144\n142\n14\n178\n206\ncomplete result values:\n"
     ]
    },
    {
     "output_type": "execute_result",
     "data": {
      "text/plain": [
       "(array([[2984.,    0.,    0., ...,    0.,    0.,    0.],\n",
       "        [2984.,    0.,    0., ...,    0.,    0.,    0.],\n",
       "        [2984.,    0.,    0., ...,    0.,    0.,    0.],\n",
       "        ...,\n",
       "        [2984.,    0.,    0., ...,    0.,    0.,    0.],\n",
       "        [2984.,    0.,    0., ...,    0.,    0.,    0.],\n",
       "        [2984.,    0.,    0., ...,    0.,    0.,    0.]]),\n",
       " array([  0. ,  25.5,  51. ,  76.5, 102. , 127.5, 153. , 178.5, 204. ,\n",
       "        229.5, 255. ]),\n",
       " <a list of 3755 BarContainer objects>)"
      ]
     },
     "metadata": {},
     "execution_count": 120
    }
   ],
   "source": [
    "#for i in range(0,4):\n",
    "    #img_ms_tiff[:,:,i].shape == img_red_tiff\n",
    "print(img_red_tiff[2000, 2000])\n",
    "print(img_green_tiff[2000, 2000])\n",
    "print(img_blue_tiff[2000, 2000])\n",
    "print(img_rededge_tiff[2000, 2000])\n",
    "print(img_nir_tiff[2000, 2000])\n",
    "\n",
    "print(\"complete result values:\")\n",
    "\n",
    "for i in range(0,4):\n",
    "    print(img_ms_tiff[2000,2000,i])\n",
    "    \n"
   ]
  },
  {
   "cell_type": "code",
   "execution_count": 127,
   "metadata": {},
   "outputs": [
    {
     "output_type": "display_data",
     "data": {
      "text/plain": "<Figure size 432x288 with 1 Axes>",
      "image/png": "[encoded data removed]"
     },
     "metadata": {
      "needs_background": "light"
     }
    }
   ],
   "source": [
    "img_red_flat = img_red_tiff.reshape((-1))\n",
    "img_red_flat = np.float32(img_red_flat)\n",
    "\n",
    "#plt.figure(figsize=((10,8)))\n",
    "plt.hist(img_red_flat[img_red_flat != 0])\n",
    "plt.show()"
   ]
  },
  {
   "cell_type": "code",
   "execution_count": 131,
   "metadata": {},
   "outputs": [
    {
     "output_type": "display_data",
     "data": {
      "text/plain": "<Figure size 432x288 with 1 Axes>",
      "image/png": "[encoded data removed]"
     },
     "metadata": {
      "needs_background": "light"
     }
    }
   ],
   "source": [
    "img_ms_flat = dict()\n",
    "for i in range(0,4):\n",
    "    img_ms_flat[str(i)] = img_ms_tiff[:,:,i].reshape((-1))\n",
    "\n",
    "plt.hist(img_ms_flat[\"3\"][img_ms_flat[\"3\"]!=0])\n",
    "plt.show()"
   ]
  },
  {
   "cell_type": "code",
   "execution_count": 132,
   "metadata": {},
   "outputs": [
    {
     "output_type": "execute_result",
     "data": {
      "text/plain": [
       "array([  0,   8,  16, 239, 247, 255], dtype=uint8)"
      ]
     },
     "metadata": {},
     "execution_count": 132
    }
   ],
   "source": [
    "# is the fourth band (index=3) maybe a mask? (ie black and white values only?)\n",
    "np.unique(img_ms_tiff[:,:,3]) # --> no, but values are very strange?"
   ]
  },
  {
   "cell_type": "code",
   "execution_count": 133,
   "metadata": {},
   "outputs": [
    {
     "output_type": "display_data",
     "data": {
      "text/plain": "<Figure size 432x288 with 1 Axes>",
      "image/png": "[encoded data removed]"
     },
     "metadata": {
      "needs_background": "light"
     }
    }
   ],
   "source": [
    "# look at nir and red edge to see how the histograms look like\n",
    "\n",
    "img_rededge_flat = img_rededge_tiff.reshape((-1))\n",
    "img_rededge_flat = np.float32(img_rededge_flat)\n",
    "\n",
    "#plt.figure(figsize=((10,8)))\n",
    "plt.hist(img_rededge_flat[img_rededge_flat != 0])\n",
    "plt.show()"
   ]
  },
  {
   "cell_type": "code",
   "execution_count": 135,
   "metadata": {},
   "outputs": [
    {
     "output_type": "display_data",
     "data": {
      "text/plain": "<Figure size 432x288 with 1 Axes>",
      "image/png": "[encoded data removed]"
     },
     "metadata": {
      "needs_background": "light"
     }
    }
   ],
   "source": [
    "img_nir_flat = img_nir_tiff.reshape((-1))\n",
    "img_nir_flat = np.float32(img_nir_flat)\n",
    "\n",
    "#plt.figure(figsize=((10,8)))\n",
    "plt.hist(img_nir_flat[img_nir_flat != 0])\n",
    "plt.show()"
   ]
  },
  {
   "cell_type": "code",
   "execution_count": 138,
   "metadata": {},
   "outputs": [
    {
     "output_type": "execute_result",
     "data": {
      "text/plain": [
       "False"
      ]
     },
     "metadata": {},
     "execution_count": 138
    }
   ],
   "source": [
    "# die histogramme sehen alle gleich aus! warum??\n",
    "\n",
    "(img_nir_tiff == img_red_tiff).all() # werte sind schonmal nicht alle gleich (sieht man oben auch schon)"
   ]
  },
  {
   "cell_type": "code",
   "execution_count": 14,
   "metadata": {},
   "outputs": [
    {
     "output_type": "execute_result",
     "data": {
      "text/plain": [
       "(4, 2984, 3755)"
      ]
     },
     "metadata": {},
     "execution_count": 14
    }
   ],
   "source": [
    "img_ms_rasterio = rasterio.open(\"../data/example_multispectral.tif\").read()\n",
    "img_ms_rasterio.shape\n",
    "# calculate indices directly in python, see https://gis.stackexchange.com/questions/379762/how-to-calculate-multispectral-vegetation-indices-using-python\n",
    "\n",
    "# this package makes the best impression. well documented, easy to use but powerful\n",
    "\n",
    "# is there maybe a difference in what the different raster packages produce when importing data?"
   ]
  }
 ]
}