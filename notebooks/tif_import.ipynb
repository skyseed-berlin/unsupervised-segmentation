{
 "metadata": {
  "language_info": {
   "codemirror_mode": {
    "name": "ipython",
    "version": 3
   },
   "file_extension": ".py",
   "mimetype": "text/x-python",
   "name": "python",
   "nbconvert_exporter": "python",
   "pygments_lexer": "ipython3",
   "version": "3.9.0"
  },
  "orig_nbformat": 4,
  "kernelspec": {
   "name": "python3",
   "display_name": "Python 3.9.0 64-bit ('unsupervised-segmentation-n8aEmxnI': pipenv)"
  },
  "interpreter": {
   "hash": "268e3f556bbcdad8d074894574ecc547312956b04c26b94f670fb936139e6cdb"
  }
 },
 "nbformat": 4,
 "nbformat_minor": 2,
 "cells": [
  {
   "cell_type": "code",
   "execution_count": 183,
   "metadata": {},
   "outputs": [],
   "source": [
    "import cv2\n",
    "import tifffile as tiff \n",
    "import imagecodecs\n",
    "import rasterio \n",
    "# I also want to try using the gdal library > installed by default on colab server and also usable in QGIS. However trouble installing it locally via pipenv\n",
    "import numpy as np \n",
    "import matplotlib.pyplot as plt\n",
    "%matplotlib inline\n"
   ]
  },
  {
   "cell_type": "code",
   "execution_count": 184,
   "metadata": {},
   "outputs": [
    {
     "output_type": "execute_result",
     "data": {
      "text/plain": [
       "(2984, 3755, 3)"
      ]
     },
     "metadata": {},
     "execution_count": 184
    }
   ],
   "source": [
    "img_rgb = cv2.imread(\"../data/sample_data/example_multispectral.tif\")\n",
    "img_rgb.shape\n",
    "# this does not work > does only read three color bands "
   ]
  },
  {
   "cell_type": "code",
   "execution_count": 186,
   "metadata": {},
   "outputs": [
    {
     "output_type": "execute_result",
     "data": {
      "text/plain": [
       "(2984, 3755, 4)"
      ]
     },
     "metadata": {},
     "execution_count": 186
    }
   ],
   "source": [
    "img_ms_tiff = tiff.imread(\"../data/sample_data/example_multispectral.tif\")\n",
    "img_ms.shape\n",
    "\n",
    "# this package should be able to read multi-band images, but mysteriously there are only 4 for our Phantom P4 Multispectral data, where there should be 5, same for rasterio, see below"
   ]
  },
  {
   "cell_type": "code",
   "execution_count": 187,
   "metadata": {},
   "outputs": [
    {
     "output_type": "stream",
     "name": "stdout",
     "text": [
      "no matching individual color band found for band 0\n---\nno matching individual color band found for band 1\n---\nno matching individual color band found for band 2\n---\nno matching individual color band found for band 3\n---\n"
     ]
    }
   ],
   "source": [
    "# da neben der (wie ich dachte) kompletten result.tif \n",
    "# alle color bands nochmal einzeln als .tif im Datenordner zu finden sind war meine Idee:\n",
    "# alle einzeln importieren und schauen welche im gesamt result.tif drin sind und welche nicht\n",
    "\n",
    "img_rededge_tiff = tiff.imread(\"../data/sample_data/example_rededge.tif\")\n",
    "img_nir_tiff = tiff.imread(\"../data/sample_data/example_nir.tif\")\n",
    "img_red_tiff = tiff.imread(\"../data/sample_data/example_red.tif\")\n",
    "img_green_tiff = tiff.imread(\"../data/sample_data/example_green.tif\")\n",
    "img_blue_tiff = tiff.imread(\"../data/sample_data/example_blue.tif\")\n",
    "\n",
    "def replace_nans(array):\n",
    "\n",
    "    indis = np.where(np.isnan(array))\n",
    "    array[indis] = 0\n",
    "    array = array.astype(\"uint8\")\n",
    "\n",
    "    return(array)\n",
    "\n",
    "img_nir_tiff = replace_nans(array=img_nir_tiff)\n",
    "img_rededge_tiff = replace_nans(array=img_rededge_tiff)\n",
    "img_red_tiff = replace_nans(array=img_red_tiff)\n",
    "img_green_tiff = replace_nans(array=img_green_tiff)\n",
    "img_blue_tiff = replace_nans(array=img_blue_tiff)\n",
    "\n",
    "for i in range(0,4):\n",
    "    \n",
    "    if (img_ms_tiff[:,:,i] == img_red_tiff).all():\n",
    "\n",
    "        print(\"band \" + str(i) + \" is Red\")\n",
    "\n",
    "    elif (img_ms_tiff[:,:,i] == img_green_tiff).all():\n",
    "\n",
    "        print(\"band \" + str(i) + \" is Green\")\n",
    "\n",
    "    elif (img_ms_tiff[:,:,i] == img_blue_tiff).all():\n",
    "\n",
    "        print(\"band \" + str(i) + \" is Blue\")\n",
    "\n",
    "    elif (img_ms_tiff[:,:,i] == img_rededge_tiff).all():\n",
    "\n",
    "        print(\"band \" + str(i) + \" is Red Edge\")\n",
    "    \n",
    "    elif (img_ms_tiff[:,:,i] == img_nir_tiff).all():\n",
    "\n",
    "        print(\"band \" + str(i) + \" is NIR\")\n",
    "    \n",
    "    else: \n",
    "        print(\"no matching individual color band found for band \" + str(i))\n",
    "\n",
    "    print(\"---\")\n",
    "    "
   ]
  },
  {
   "cell_type": "code",
   "execution_count": 188,
   "metadata": {
    "tags": []
   },
   "outputs": [
    {
     "output_type": "stream",
     "name": "stdout",
     "text": [
      "Pixel values for individual bands\n\n144\n142\n14\n178\n206\n\nPixel values for complete result.tif\n\n157\n143\n139\n255\n"
     ]
    }
   ],
   "source": [
    "# Es gibt also bei keinem Band des gesamt result.tif eine exakte Übereinstimmung mit den einzlenen results\n",
    "# Find ich komisch\n",
    "\n",
    "# Hier nochmal test für einen Pixel\n",
    "print(\"Pixel values for individual bands\\n\")\n",
    "\n",
    "print(img_red_tiff[2000, 2000])\n",
    "print(img_green_tiff[2000, 2000])\n",
    "print(img_blue_tiff[2000, 2000])\n",
    "print(img_rededge_tiff[2000, 2000])\n",
    "print(img_nir_tiff[2000, 2000])\n",
    "\n",
    "print(\"\\nPixel values for complete result.tif\\n\")\n",
    "\n",
    "for i in range(0,4):\n",
    "    print(img_ms_tiff[2000,2000,i])\n",
    "    \n",
    "# --> none of them match?!"
   ]
  },
  {
   "cell_type": "code",
   "execution_count": 189,
   "metadata": {},
   "outputs": [
    {
     "output_type": "display_data",
     "data": {
      "text/plain": "<Figure size 432x288 with 1 Axes>",
      "image/png": "[encoded data removed]"
     },
     "metadata": {
      "needs_background": "light"
     }
    }
   ],
   "source": [
    "# Look at distribution of color values over pixels\n",
    "def hist_plot(raw_array):\n",
    "\n",
    "    flat = raw_array.reshape((-1))\n",
    "    flat = np.float32(flat)\n",
    "\n",
    "    plt.hist(flat[flat != 0])\n",
    "    plt.show()\n",
    "\n",
    "# einmal für die einzel importierten RED Werte\n",
    "hist_plot(raw_array=img_red_tiff)"
   ]
  },
  {
   "cell_type": "code",
   "execution_count": 190,
   "metadata": {},
   "outputs": [
    {
     "output_type": "display_data",
     "data": {
      "text/plain": "<Figure size 432x288 with 1 Axes>",
      "image/png": "[encoded data removed]"
     },
     "metadata": {
      "needs_background": "light"
     }
    }
   ],
   "source": [
    "# Und für jeweils die vier Bänder im Gesamt file (result.tif)\n",
    "# Numero 1\n",
    "hist_plot(raw_array=img_ms_tiff[:,:,0])"
   ]
  },
  {
   "cell_type": "code",
   "execution_count": 192,
   "metadata": {},
   "outputs": [
    {
     "output_type": "display_data",
     "data": {
      "text/plain": "<Figure size 432x288 with 1 Axes>",
      "image/png": "[encoded data removed]"
     },
     "metadata": {
      "needs_background": "light"
     }
    }
   ],
   "source": [
    "# numero 2\n",
    "hist_plot(raw_array=img_ms_tiff[:,:,1])"
   ]
  },
  {
   "cell_type": "code",
   "execution_count": 193,
   "metadata": {},
   "outputs": [
    {
     "output_type": "display_data",
     "data": {
      "text/plain": "<Figure size 432x288 with 1 Axes>",
      "image/png": "[encoded data removed]"
     },
     "metadata": {
      "needs_background": "light"
     }
    }
   ],
   "source": [
    "# numero 3\n",
    "hist_plot(raw_array=img_ms_tiff[:,:,2])"
   ]
  },
  {
   "cell_type": "code",
   "execution_count": 194,
   "metadata": {},
   "outputs": [
    {
     "output_type": "display_data",
     "data": {
      "text/plain": "<Figure size 432x288 with 1 Axes>",
      "image/png": "[encoded data removed]"
     },
     "metadata": {
      "needs_background": "light"
     }
    }
   ],
   "source": [
    "# sieht bislang eher so aus wie ich color histograms für bilder kenne. aber jetzt kommt..\n",
    "# numero 4\n",
    "hist_plot(raw_array=img_ms_tiff[:,:,3])"
   ]
  },
  {
   "cell_type": "code",
   "execution_count": 195,
   "metadata": {},
   "outputs": [
    {
     "output_type": "execute_result",
     "data": {
      "text/plain": [
       "array([  0,   8,  16, 239, 247, 255], dtype=uint8)"
      ]
     },
     "metadata": {},
     "execution_count": 195
    }
   ],
   "source": [
    "# is the fourth band (index=3) maybe a mask? (ie black and white values only?)\n",
    "np.unique(img_ms_tiff[:,:,3]) # --> nö, aber Werte sind sehr seltsam?!"
   ]
  },
  {
   "cell_type": "code",
   "execution_count": 196,
   "metadata": {},
   "outputs": [
    {
     "output_type": "display_data",
     "data": {
      "text/plain": "<Figure size 432x288 with 1 Axes>",
      "image/png": "[encoded data removed]"
     },
     "metadata": {
      "needs_background": "light"
     }
    }
   ],
   "source": [
    "# look at nir and red edge to see how the histograms look like\n",
    "\n",
    "hist_plot(raw_array=img_rededge_tiff)"
   ]
  },
  {
   "cell_type": "code",
   "execution_count": 197,
   "metadata": {},
   "outputs": [
    {
     "output_type": "display_data",
     "data": {
      "text/plain": "<Figure size 432x288 with 1 Axes>",
      "image/png": "[encoded data removed]"
     },
     "metadata": {
      "needs_background": "light"
     }
    }
   ],
   "source": [
    "hist_plot(raw_array=img_nir_tiff)"
   ]
  },
  {
   "cell_type": "code",
   "execution_count": 198,
   "metadata": {},
   "outputs": [
    {
     "output_type": "execute_result",
     "data": {
      "text/plain": [
       "False"
      ]
     },
     "metadata": {},
     "execution_count": 198
    }
   ],
   "source": [
    "# die histogramme der einzeln importierten Farbbänder sehen alle gleich aus!\n",
    "# wurden die irgendwie standardisiert oder sowas?\n",
    "\n",
    "(img_nir_tiff == img_red_tiff).all() # werte sind allerdings nicht alle gleich (sieht man oben auch schon)"
   ]
  },
  {
   "cell_type": "code",
   "execution_count": 199,
   "metadata": {},
   "outputs": [
    {
     "output_type": "stream",
     "name": "stdout",
     "text": [
      "(4, 2984, 3755)\n(2984, 3755, 4)\n\n\nTrue\nTrue\nTrue\nTrue\n"
     ]
    }
   ],
   "source": [
    "img_ms_rasterio = rasterio.open(\"../data/sample_data/example_multispectral.tif\").read()\n",
    "# calculate indices directly in python, see https://gis.stackexchange.com/questions/379762/how-to-calculate-multispectral-vegetation-indices-using-python\n",
    "\n",
    "# this package makes the best impression. well documented, easy to use but powerful\n",
    "\n",
    "# is there maybe a difference in what the different raster packages produce when importing data?\n",
    "print(img_ms_rasterio.shape)\n",
    "print(img_ms_tiff.shape)\n",
    "print(\"\\n\")\n",
    "\n",
    "for i in range(0,4):\n",
    "    \n",
    "    print((img_ms_rasterio[i,:,:] == img_ms_tiff[:,:,i]).all())\n",
    "\n",
    "# --> although the format is different, the individual band values are identical"
   ]
  },
  {
   "cell_type": "code",
   "execution_count": 200,
   "metadata": {},
   "outputs": [],
   "source": [
    "# import individual color bands with rasterio package\n",
    "img_red_rasterio = rasterio.open(\"../data/sample_data/example_red.tif\").read()\n",
    "img_green_rasterio = rasterio.open(\"../data/sample_data/example_green.tif\").read()\n",
    "img_blue_rasterio = rasterio.open(\"../data/sample_data/example_blue.tif\").read()\n",
    "img_rededge_rasterio = rasterio.open(\"../data/sample_data/example_rededge.tif\").read()\n",
    "img_nir_rasterio = rasterio.open(\"../data/sample_data/example_nir.tif\").read()"
   ]
  },
  {
   "cell_type": "code",
   "execution_count": 201,
   "metadata": {},
   "outputs": [
    {
     "output_type": "stream",
     "name": "stdout",
     "text": [
      "True\nTrue\nTrue\nTrue\nTrue\n"
     ]
    }
   ],
   "source": [
    "target_shape = (img_red_rasterio.shape[1], img_red_rasterio.shape[2])\n",
    "\n",
    "img_red_new = replace_nans(img_red_rasterio.reshape(target_shape))\n",
    "img_green_new = replace_nans(img_green_rasterio.reshape(target_shape))\n",
    "img_blue_new = replace_nans(img_blue_rasterio.reshape(target_shape))\n",
    "img_rededge_new = replace_nans(img_rededge_rasterio.reshape(target_shape))\n",
    "img_nir_new = replace_nans(img_nir_rasterio.reshape(target_shape))\n",
    "\n",
    "print((img_red_new == img_red_tiff).all())\n",
    "print((img_green_new == img_green_tiff).all())\n",
    "print((img_blue_new == img_blue_tiff).all())\n",
    "print((img_rededge_new == img_rededge_tiff).all())\n",
    "print((img_nir_new == img_nir_tiff).all())\n",
    "# individual bands also all the same -> this cannot be the reason"
   ]
  }
 ]
}