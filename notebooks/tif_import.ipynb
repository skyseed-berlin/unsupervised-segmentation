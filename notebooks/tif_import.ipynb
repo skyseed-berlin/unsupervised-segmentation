{
 "metadata": {
  "language_info": {
   "codemirror_mode": {
    "name": "ipython",
    "version": 3
   },
   "file_extension": ".py",
   "mimetype": "text/x-python",
   "name": "python",
   "nbconvert_exporter": "python",
   "pygments_lexer": "ipython3",
   "version": "3.9.0"
  },
  "orig_nbformat": 4,
  "kernelspec": {
   "name": "python3",
   "display_name": "Python 3.9.0 64-bit ('unsupervised-segmentation-n8aEmxnI': pipenv)"
  },
  "interpreter": {
   "hash": "268e3f556bbcdad8d074894574ecc547312956b04c26b94f670fb936139e6cdb"
  }
 },
 "nbformat": 4,
 "nbformat_minor": 2,
 "cells": [
  {
   "cell_type": "code",
   "execution_count": 5,
   "metadata": {},
   "outputs": [
    {
     "output_type": "execute_result",
     "data": {
      "text/plain": [
       "(3000, 4000, 3)"
      ]
     },
     "metadata": {},
     "execution_count": 5
    }
   ],
   "source": [
    "import cv2\n",
    "import tifffile as tiff \n",
    "import imagecodecs\n",
    "import rasterio\n",
    "# try using gdal library > installed by default on colab server. however trouble installing it locally via pipenv\n",
    "\n",
    "img_rgb = cv2.imread(\"../data/example_tile.tif\")\n",
    "img_rgb.shape\n"
   ]
  },
  {
   "cell_type": "code",
   "execution_count": 6,
   "metadata": {},
   "outputs": [
    {
     "output_type": "execute_result",
     "data": {
      "text/plain": [
       "(2984, 3755, 3)"
      ]
     },
     "metadata": {},
     "execution_count": 6
    }
   ],
   "source": [
    "img_rgb = cv2.imread(\"../data/example_multispectral.tif\")\n",
    "img_rgb.shape\n",
    "# this does not work > does only read three color bands "
   ]
  },
  {
   "cell_type": "code",
   "execution_count": 7,
   "metadata": {},
   "outputs": [
    {
     "output_type": "execute_result",
     "data": {
      "text/plain": [
       "(2984, 3755, 4)"
      ]
     },
     "metadata": {},
     "execution_count": 7
    }
   ],
   "source": [
    "img_ms_tiff = tiff.imread(\"../data/example_multispectral.tif\")\n",
    "img_ms.shape"
   ]
  },
  {
   "cell_type": "code",
   "execution_count": 14,
   "metadata": {},
   "outputs": [
    {
     "output_type": "execute_result",
     "data": {
      "text/plain": [
       "(4, 2984, 3755)"
      ]
     },
     "metadata": {},
     "execution_count": 14
    }
   ],
   "source": [
    "img_ms_rasterio = rasterio.open(\"../data/example_multispectral.tif\").read()\n",
    "img_ms_rasterio.shape\n",
    "# calculate indices directly in python, see https://gis.stackexchange.com/questions/379762/how-to-calculate-multispectral-vegetation-indices-using-python\n",
    "\n",
    "# this package makes the best impression. well documented, easy to use but powerful"
   ]
  }
 ]
}