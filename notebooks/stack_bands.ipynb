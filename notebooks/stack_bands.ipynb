{
 "cells": [
  {
   "cell_type": "code",
   "execution_count": 57,
   "source": [
    "import rasterio\n",
    "import numpy as np \n",
    "import matplotlib.pyplot as plt\n",
    "\n",
    "# try this sample code from stackoverflow\n",
    "\n",
    "# make sure input dtype is set to greyscale and unit16\n",
    "\n",
    "# assumption: input layers already share the same extent, resolution and data type (check along the way)\n",
    "\n",
    "file_list = [\n",
    "    '../data/sample_data/example_red.tif',\n",
    "    '../data/sample_data/example_green.tif', \n",
    "    '../data/sample_data/example_blue.tif',\n",
    "    '../data/sample_data/example_rededge.tif',\n",
    "    '../data/sample_data/example_nir.tif'\n",
    "    ]\n",
    "\n",
    "# write a mask for all nan values and mask the output file \n",
    "# Read metadata of first file\n",
    "with rasterio.open(file_list[0]) as src0:\n",
    "    meta = src0.meta\n",
    "    testband = src0.read(1)\n",
    "meta\n"
   ],
   "outputs": [
    {
     "output_type": "execute_result",
     "data": {
      "text/plain": [
       "{'driver': 'GTiff',\n",
       " 'dtype': 'uint16',\n",
       " 'nodata': 0,\n",
       " 'width': 3755,\n",
       " 'height': 2984,\n",
       " 'count': 1,\n",
       " 'crs': CRS.from_epsg(4326),\n",
       " 'transform': Affine(3.672130279852581e-07, 0.0, 14.293207930901957,\n",
       "        0.0, -2.246656976012673e-07, 52.390537498322836)}"
      ]
     },
     "metadata": {},
     "execution_count": 57
    }
   ],
   "metadata": {}
  },
  {
   "cell_type": "code",
   "execution_count": 37,
   "source": [
    "# compare metadata \n",
    "with rasterio.open(file_list[2]) as src2:\n",
    "    meta_check = src2.meta\n",
    "meta_check\n",
    "# crs, transform (mapping pixel to coordinate reference system) and extent are exactly the same for each layer"
   ],
   "outputs": [
    {
     "output_type": "execute_result",
     "data": {
      "text/plain": [
       "{'driver': 'GTiff',\n",
       " 'dtype': 'float32',\n",
       " 'nodata': nan,\n",
       " 'width': 3755,\n",
       " 'height': 2984,\n",
       " 'count': 1,\n",
       " 'crs': CRS.from_epsg(4326),\n",
       " 'transform': Affine(3.672130279852581e-07, 0.0, 14.293207930901957,\n",
       "        0.0, -2.246656976012673e-07, 52.390537498322836)}"
      ]
     },
     "metadata": {},
     "execution_count": 37
    }
   ],
   "metadata": {}
  },
  {
   "cell_type": "code",
   "execution_count": 55,
   "source": [
    "# check max value as it's imported as float32 although it should be uint16\n",
    "testband[~np.isnan(testband)].max()"
   ],
   "outputs": [
    {
     "output_type": "execute_result",
     "data": {
      "text/plain": [
       "6970.422"
      ]
     },
     "metadata": {},
     "execution_count": 55
    }
   ],
   "metadata": {}
  },
  {
   "cell_type": "code",
   "execution_count": 42,
   "source": [
    "# Update meta to the number of total layers to stack\n",
    "meta.update(count = len(file_list))\n",
    "\n",
    "meta"
   ],
   "outputs": [
    {
     "output_type": "execute_result",
     "data": {
      "text/plain": [
       "{'driver': 'GTiff',\n",
       " 'dtype': 'float32',\n",
       " 'nodata': nan,\n",
       " 'width': 3755,\n",
       " 'height': 2984,\n",
       " 'count': 5,\n",
       " 'crs': CRS.from_epsg(4326),\n",
       " 'transform': Affine(3.672130279852581e-07, 0.0, 14.293207930901957,\n",
       "        0.0, -2.246656976012673e-07, 52.390537498322836)}"
      ]
     },
     "metadata": {},
     "execution_count": 42
    }
   ],
   "metadata": {}
  },
  {
   "cell_type": "code",
   "execution_count": 44,
   "source": [
    "# Read each layer and write it to stack\n",
    "with rasterio.open(\"../data/sample_data/stack.tif\", \"w\", **meta) as dst:\n",
    "    for id, layer in enumerate(file_list, start=1):\n",
    "        print(id, layer)\n",
    "        with rasterio.open(layer) as src1:\n",
    "            band = src1.read(1)\n",
    "            print(band[~np.isnan(band)].max())\n",
    "            dst.write_band(id, src1.read(1))\n"
   ],
   "outputs": [
    {
     "output_type": "stream",
     "name": "stdout",
     "text": [
      "1 ../data/sample_data/example_red.tif\n",
      "6970.422\n",
      "2 ../data/sample_data/example_green.tif\n",
      "4692.2876\n",
      "3 ../data/sample_data/example_blue.tif\n",
      "3211.5457\n",
      "4 ../data/sample_data/example_rededge.tif\n",
      "8249.591\n",
      "5 ../data/sample_data/example_nir.tif\n",
      "8932.939\n"
     ]
    }
   ],
   "metadata": {}
  },
  {
   "cell_type": "code",
   "execution_count": 26,
   "source": [
    "# Read in file\n",
    "raster = rasterio.open(\"../data/sample_data/stack.tif\")\n",
    "\n",
    "# Read the raster band as separate variable\n",
    "band1 = raster.read(1)\n",
    "\n",
    "# Data type of the values\n",
    "band1.dtype\n",
    "\n",
    "# still float. why???"
   ],
   "outputs": [
    {
     "output_type": "execute_result",
     "data": {
      "text/plain": [
       "array([[nan, nan, nan, ..., nan, nan, nan],\n",
       "       [nan, nan, nan, ..., nan, nan, nan],\n",
       "       [nan, nan, nan, ..., nan, nan, nan],\n",
       "       ...,\n",
       "       [nan, nan, nan, ..., nan, nan, nan],\n",
       "       [nan, nan, nan, ..., nan, nan, nan],\n",
       "       [nan, nan, nan, ..., nan, nan, nan]], dtype=float32)"
      ]
     },
     "metadata": {},
     "execution_count": 26
    }
   ],
   "metadata": {}
  },
  {
   "cell_type": "code",
   "execution_count": 21,
   "source": [
    "band1_nonan = band1[~np.isnan(band1)]\n",
    "band1_nonan"
   ],
   "outputs": [
    {
     "output_type": "execute_result",
     "data": {
      "text/plain": [
       "array([1403.2349, 1401.5748, 1500.0499, ..., 1948.5144, 2148.2966,\n",
       "       2151.5654], dtype=float32)"
      ]
     },
     "metadata": {},
     "execution_count": 21
    }
   ],
   "metadata": {}
  },
  {
   "cell_type": "code",
   "execution_count": 58,
   "source": [
    "# Read all bands\n",
    "array = raster.read()\n",
    "\n",
    "# Calculate statistics for each band\n",
    "stats = []\n",
    "\n",
    "for band in array:\n",
    "\n",
    "   band = band[~np.isnan(band)]\n",
    "\n",
    "   stats.append({\n",
    "      'min': band.min(),\n",
    "      'mean': band.mean(),\n",
    "      'median': np.median(band),\n",
    "      'max': band.max()\n",
    "      })\n",
    "\n",
    "   plt.hist(band)\n",
    "\n",
    "print(stats)\n",
    "plt.show()\n"
   ],
   "outputs": [
    {
     "output_type": "stream",
     "name": "stdout",
     "text": [
      "[{'min': 282.72656, 'mean': 1876.7418, 'median': 1756.863, 'max': 6970.422}, {'min': 260.27527, 'mean': 1486.3538, 'median': 1427.5527, 'max': 4692.2876}, {'min': 171.61177, 'mean': 890.85455, 'median': 856.5023, 'max': 3211.5457}, {'min': 510.4758, 'mean': 3288.1296, 'median': 3210.8376, 'max': 8249.591}, {'min': 723.1863, 'mean': 4011.3643, 'median': 3959.181, 'max': 8932.939}]\n"
     ]
    },
    {
     "output_type": "display_data",
     "data": {
      "text/plain": [
       "<Figure size 432x288 with 1 Axes>"
      ],
      "image/png": "[encoded data removed]"
     },
     "metadata": {
      "needs_background": "light"
     }
    }
   ],
   "metadata": {}
  },
  {
   "cell_type": "code",
   "execution_count": null,
   "source": [
    "# sieht doch ordentlich aus jetzt! \n",
    "# in QGIS ist der Datentyp auch float32\n",
    "# einziger verbleibender Sorgenpunkt: in QGIS werden für die Bänder andere min/max werte angezeigt"
   ],
   "outputs": [],
   "metadata": {}
  }
 ],
 "metadata": {
  "orig_nbformat": 4,
  "language_info": {
   "name": "python",
   "version": "3.9.0",
   "mimetype": "text/x-python",
   "codemirror_mode": {
    "name": "ipython",
    "version": 3
   },
   "pygments_lexer": "ipython3",
   "nbconvert_exporter": "python",
   "file_extension": ".py"
  },
  "kernelspec": {
   "name": "python3",
   "display_name": "Python 3.9.0 64-bit ('unsupervised-segmentation-n8aEmxnI': pipenv)"
  },
  "interpreter": {
   "hash": "268e3f556bbcdad8d074894574ecc547312956b04c26b94f670fb936139e6cdb"
  }
 },
 "nbformat": 4,
 "nbformat_minor": 2
}