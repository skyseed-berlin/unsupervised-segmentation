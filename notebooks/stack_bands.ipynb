{
 "cells": [
  {
   "cell_type": "code",
   "execution_count": 7,
   "source": [
    "import rasterio\n",
    "\n",
    "# try this sample code from stackoverflow\n",
    "\n",
    "# make sure input dtype is set to greyscale and unit16\n",
    "\n",
    "# assumption: input layers already share the same extent, resolution and data type (is that so?)\n",
    "\n",
    "file_list = [\n",
    "    '../data/sample_data/example_red.tif',\n",
    "    '../data/sample_data/example_green.tif', \n",
    "    '../data/sample_data/example_blue.tif',\n",
    "    '../data/sample_data/example_rededge.tif',\n",
    "    '../data/sample_data/example_nir.tif'\n",
    "    ]\n",
    "\n",
    "# Read metadata of first file\n",
    "with rasterio.open(file_list[0]) as src0:\n",
    "    meta = src0.meta\n",
    "\n",
    "meta"
   ],
   "outputs": [
    {
     "output_type": "execute_result",
     "data": {
      "text/plain": [
       "{'driver': 'GTiff',\n",
       " 'dtype': 'float32',\n",
       " 'nodata': nan,\n",
       " 'width': 3755,\n",
       " 'height': 2984,\n",
       " 'count': 1,\n",
       " 'crs': CRS.from_epsg(4326),\n",
       " 'transform': Affine(3.672130279852581e-07, 0.0, 14.293207930901957,\n",
       "        0.0, -2.246656976012673e-07, 52.390537498322836)}"
      ]
     },
     "metadata": {},
     "execution_count": 7
    }
   ],
   "metadata": {}
  },
  {
   "cell_type": "code",
   "execution_count": 8,
   "source": [
    "# compare metadata \n",
    "with rasterio.open(file_list[2]) as src2:\n",
    "    meta_check = src2.meta\n",
    "meta_check\n",
    "# crs, transform (mapping pixel to coordinate reference system) and extent are exactly the same for each layer"
   ],
   "outputs": [
    {
     "output_type": "execute_result",
     "data": {
      "text/plain": [
       "{'driver': 'GTiff',\n",
       " 'dtype': 'float32',\n",
       " 'nodata': nan,\n",
       " 'width': 3755,\n",
       " 'height': 2984,\n",
       " 'count': 1,\n",
       " 'crs': CRS.from_epsg(4326),\n",
       " 'transform': Affine(3.672130279852581e-07, 0.0, 14.293207930901957,\n",
       "        0.0, -2.246656976012673e-07, 52.390537498322836)}"
      ]
     },
     "metadata": {},
     "execution_count": 8
    }
   ],
   "metadata": {}
  },
  {
   "cell_type": "code",
   "execution_count": 9,
   "source": [
    "# Update meta to the number of total layers to stack\n",
    "meta.update(count = len(file_list))\n",
    "\n",
    "meta"
   ],
   "outputs": [
    {
     "output_type": "execute_result",
     "data": {
      "text/plain": [
       "{'driver': 'GTiff',\n",
       " 'dtype': 'float32',\n",
       " 'nodata': nan,\n",
       " 'width': 3755,\n",
       " 'height': 2984,\n",
       " 'count': 5,\n",
       " 'crs': CRS.from_epsg(4326),\n",
       " 'transform': Affine(3.672130279852581e-07, 0.0, 14.293207930901957,\n",
       "        0.0, -2.246656976012673e-07, 52.390537498322836)}"
      ]
     },
     "metadata": {},
     "execution_count": 9
    }
   ],
   "metadata": {}
  },
  {
   "cell_type": "code",
   "execution_count": 10,
   "source": [
    "# Read each layer and write it to stack\n",
    "with rasterio.open('../data/sample_data/stack.tif', 'w', **meta) as dst:\n",
    "    for id, layer in enumerate(file_list, start=1):\n",
    "        with rasterio.open(layer) as src1:\n",
    "            dst.write_band(id, src1.read(1))"
   ],
   "outputs": [],
   "metadata": {}
  }
 ],
 "metadata": {
  "orig_nbformat": 4,
  "language_info": {
   "name": "python",
   "version": "3.9.0",
   "mimetype": "text/x-python",
   "codemirror_mode": {
    "name": "ipython",
    "version": 3
   },
   "pygments_lexer": "ipython3",
   "nbconvert_exporter": "python",
   "file_extension": ".py"
  },
  "kernelspec": {
   "name": "python3",
   "display_name": "Python 3.9.0 64-bit ('unsupervised-segmentation-n8aEmxnI': pipenv)"
  },
  "interpreter": {
   "hash": "268e3f556bbcdad8d074894574ecc547312956b04c26b94f670fb936139e6cdb"
  }
 },
 "nbformat": 4,
 "nbformat_minor": 2
}